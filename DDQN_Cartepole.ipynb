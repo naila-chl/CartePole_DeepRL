{
 "cells": [
  {
   "cell_type": "code",
   "execution_count": 1,
   "id": "036f5ed5",
   "metadata": {
    "execution": {
     "iopub.execute_input": "2024-11-12T19:36:31.086810Z",
     "iopub.status.busy": "2024-11-12T19:36:31.085989Z",
     "iopub.status.idle": "2024-11-12T19:36:43.587657Z",
     "shell.execute_reply": "2024-11-12T19:36:43.586498Z"
    },
    "id": "mYu0OlZ6sK7d",
    "is_executing": true,
    "outputId": "24df717b-5fdb-4c5b-a14f-a06e4002aea7",
    "papermill": {
     "duration": 12.509647,
     "end_time": "2024-11-12T19:36:43.590175",
     "exception": false,
     "start_time": "2024-11-12T19:36:31.080528",
     "status": "completed"
    },
    "tags": []
   },
   "outputs": [
    {
     "name": "stdout",
     "output_type": "stream",
     "text": [
      "Requirement already satisfied: gymnasium in /opt/conda/lib/python3.10/site-packages (0.29.0)\r\n",
      "Requirement already satisfied: numpy>=1.21.0 in /opt/conda/lib/python3.10/site-packages (from gymnasium) (1.26.4)\r\n",
      "Requirement already satisfied: cloudpickle>=1.2.0 in /opt/conda/lib/python3.10/site-packages (from gymnasium) (3.0.0)\r\n",
      "Requirement already satisfied: typing-extensions>=4.3.0 in /opt/conda/lib/python3.10/site-packages (from gymnasium) (4.12.2)\r\n",
      "Requirement already satisfied: farama-notifications>=0.0.1 in /opt/conda/lib/python3.10/site-packages (from gymnasium) (0.0.4)\r\n"
     ]
    }
   ],
   "source": [
    "!pip install gymnasium"
   ]
  },
  {
   "cell_type": "code",
   "execution_count": 2,
   "id": "810fbf54",
   "metadata": {
    "execution": {
     "iopub.execute_input": "2024-11-12T19:36:43.600668Z",
     "iopub.status.busy": "2024-11-12T19:36:43.600250Z",
     "iopub.status.idle": "2024-11-12T19:36:48.200553Z",
     "shell.execute_reply": "2024-11-12T19:36:48.199787Z"
    },
    "id": "VpsHzyWmseVk",
    "is_executing": true,
    "papermill": {
     "duration": 4.608298,
     "end_time": "2024-11-12T19:36:48.203216",
     "exception": false,
     "start_time": "2024-11-12T19:36:43.594918",
     "status": "completed"
    },
    "tags": []
   },
   "outputs": [],
   "source": [
    "import gymnasium as gym\n",
    "import numpy as np\n",
    "import pandas as pd\n",
    "import matplotlib.pyplot as plt\n",
    "from collections import deque\n",
    "import random\n",
    "from tqdm import tqdm\n",
    "\n",
    "import torch\n",
    "from torch import nn\n",
    "import torch.nn.functional as F\n",
    "import torch.optim as optim\n"
   ]
  },
  {
   "cell_type": "code",
   "execution_count": 3,
   "id": "a19100a1",
   "metadata": {
    "execution": {
     "iopub.execute_input": "2024-11-12T19:36:48.213048Z",
     "iopub.status.busy": "2024-11-12T19:36:48.212548Z",
     "iopub.status.idle": "2024-11-12T19:36:48.301467Z",
     "shell.execute_reply": "2024-11-12T19:36:48.300501Z"
    },
    "id": "cQJgkAMMsEoK",
    "papermill": {
     "duration": 0.095901,
     "end_time": "2024-11-12T19:36:48.303449",
     "exception": false,
     "start_time": "2024-11-12T19:36:48.207548",
     "status": "completed"
    },
    "tags": []
   },
   "outputs": [],
   "source": [
    "device = torch.device(\"cuda:0\" if torch.cuda.is_available() else \"cpu\")"
   ]
  },
  {
   "cell_type": "code",
   "execution_count": 4,
   "id": "7b7492e2",
   "metadata": {
    "execution": {
     "iopub.execute_input": "2024-11-12T19:36:48.313431Z",
     "iopub.status.busy": "2024-11-12T19:36:48.313104Z",
     "iopub.status.idle": "2024-11-12T19:36:48.322223Z",
     "shell.execute_reply": "2024-11-12T19:36:48.321376Z"
    },
    "id": "jQk7LBu5s3yo",
    "papermill": {
     "duration": 0.016037,
     "end_time": "2024-11-12T19:36:48.324094",
     "exception": false,
     "start_time": "2024-11-12T19:36:48.308057",
     "status": "completed"
    },
    "tags": []
   },
   "outputs": [],
   "source": [
    "# Define model\n",
    "class QNetwork(nn.Module):\n",
    "\n",
    "    def __init__(self, state_shape, h1_nodes, action_space_size, seed):\n",
    "        \"\"\" state_shape (int): Dimension of each state\n",
    "            h1_nodes (int): Number of nodes in first hidden layer\n",
    "            action_space_size (int): Dimension of each action\n",
    "            seed (int): Random seed\n",
    "        \"\"\"\n",
    "        super(QNetwork, self).__init__()\n",
    "        self.seed = torch.manual_seed(seed)\n",
    "        self.fc1 = nn.Linear(state_shape, h1_nodes)\n",
    "        self.fc2 = nn.Linear(h1_nodes,h1_nodes)\n",
    "        self.out = nn.Linear(h1_nodes, action_space_size)\n",
    "\n",
    "    def forward(self, state):\n",
    "        \"\"\"Build a network that maps state -> action values.\"\"\"\n",
    "        x = self.fc1(state)\n",
    "        x = F.relu(x)\n",
    "        x = self.fc2(x)\n",
    "        x = F.relu(x)\n",
    "        x=self.out(x)\n",
    "        return x"
   ]
  },
  {
   "cell_type": "code",
   "execution_count": 5,
   "id": "4c4eb96f",
   "metadata": {
    "execution": {
     "iopub.execute_input": "2024-11-12T19:36:48.333655Z",
     "iopub.status.busy": "2024-11-12T19:36:48.332880Z",
     "iopub.status.idle": "2024-11-12T19:36:48.338721Z",
     "shell.execute_reply": "2024-11-12T19:36:48.337896Z"
    },
    "id": "W2a1w61qtpWV",
    "papermill": {
     "duration": 0.01264,
     "end_time": "2024-11-12T19:36:48.340674",
     "exception": false,
     "start_time": "2024-11-12T19:36:48.328034",
     "status": "completed"
    },
    "tags": []
   },
   "outputs": [],
   "source": [
    "# Define memory for Experience Replay\n",
    "class ReplayMemory():\n",
    "    def __init__(self, maxlen, batch_size):\n",
    "        self.memory = deque([], maxlen=maxlen)\n",
    "        self.batch_size = batch_size\n",
    "\n",
    "    def append(self, experience):\n",
    "        self.memory.append(experience)\n",
    "\n",
    "    def sample(self):\n",
    "        return random.sample(self.memory, self.batch_size)\n",
    "\n",
    "    def __len__(self):\n",
    "        return len(self.memory)"
   ]
  },
  {
   "cell_type": "code",
   "execution_count": 6,
   "id": "c8f33868",
   "metadata": {
    "execution": {
     "iopub.execute_input": "2024-11-12T19:36:48.349945Z",
     "iopub.status.busy": "2024-11-12T19:36:48.349686Z",
     "iopub.status.idle": "2024-11-12T19:36:48.368361Z",
     "shell.execute_reply": "2024-11-12T19:36:48.367692Z"
    },
    "id": "YbRg16A-uGjZ",
    "papermill": {
     "duration": 0.025452,
     "end_time": "2024-11-12T19:36:48.370302",
     "exception": false,
     "start_time": "2024-11-12T19:36:48.344850",
     "status": "completed"
    },
    "tags": []
   },
   "outputs": [],
   "source": [
    "class DQAgent():\n",
    "    \"\"\"Interacts with and learns from the environment using Double DQN.\"\"\"\n",
    "\n",
    "    def __init__(self, state_shape, action_space_size, seed, h1_nodes=64, learning_rate=5e-4, replay_memory_size=int(1e5), batch_size=64, UPDATE_EVERY=1000, LEARN_EVERY=4, GAMMA=0.99):\n",
    "        \"\"\"Initialize an Agent object.\"\"\"\n",
    "\n",
    "        self.state_shape = state_shape\n",
    "        self.action_space_size = action_space_size\n",
    "        self.seed = random.seed(seed)\n",
    "        self.GAMMA = GAMMA\n",
    "        self.UPDATE_EVERY = UPDATE_EVERY\n",
    "        self.LEARN_EVERY = LEARN_EVERY\n",
    "        self.h1_nodes = h1_nodes\n",
    "        self.learning_rate = learning_rate\n",
    "        self.batch_size = batch_size\n",
    "        self.replay_memory_size = replay_memory_size\n",
    "\n",
    "        # Q-Networks (local and target)\n",
    "        self.local_dqn = QNetwork(self.state_shape, self.h1_nodes, self.action_space_size, seed).to(device)\n",
    "        self.target_dqn = QNetwork(self.state_shape, self.h1_nodes, self.action_space_size, seed).to(device)\n",
    "\n",
    "        self.optimizer = optim.Adam(self.local_dqn.parameters(), lr=self.learning_rate)\n",
    "\n",
    "        # Replay memory\n",
    "        self.memory = ReplayMemory(self.replay_memory_size, self.batch_size)\n",
    "\n",
    "        # Initialize time steps\n",
    "        self.l_step = 0\n",
    "        self.t_step = 0\n",
    "\n",
    "    def state_to_dqn_input(self, state) -> torch.Tensor:\n",
    "        return torch.from_numpy(state).float().unsqueeze(0).to(device)\n",
    "\n",
    "    # Returns actions for a given state\n",
    "    # Epsilon-greedy action selection\n",
    "    def act(self, state, eps=0.):\n",
    "        if random.random() > eps:\n",
    "            action_values = self.local_dqn(self.state_to_dqn_input(state))\n",
    "            return np.argmax(action_values.cpu().data.numpy())\n",
    "        else:\n",
    "            return random.choice(np.arange(self.action_space_size))\n",
    "\n",
    "    def step(self, state, action, reward, next_state, done):\n",
    "        \"\"\"Save experience and learn.\"\"\"\n",
    "        # Save experience in replay memory\n",
    "        self.memory.append((state, action, reward, next_state, done))\n",
    "\n",
    "        # If enough samples are available in memory, get random subset and learn\n",
    "        self.l_step = (self.l_step + 1) % self.LEARN_EVERY\n",
    "        if self.l_step == 0 and len(self.memory) > self.batch_size:\n",
    "            experiences = self.memory.sample()\n",
    "            self.learn(experiences)\n",
    "\n",
    "        # Copy local network to target network every UPDATE_EVERY time steps\n",
    "        self.t_step = (self.t_step + 1) % self.UPDATE_EVERY\n",
    "        if self.t_step == 0:\n",
    "            self.target_dqn.load_state_dict(self.local_dqn.state_dict())\n",
    "\n",
    "    def learn(self, experiences):\n",
    "        \"\"\"Update the network using the Double DQN update rule.\"\"\"\n",
    "        q_target_list = []\n",
    "        q_expected_list = []\n",
    "\n",
    "        # Obtain random minibatch of tuples from ReplayMemory\n",
    "        for state, action, reward, next_state, done in experiences:\n",
    "            # Convert state and next_state to tensors\n",
    "            state = self.state_to_dqn_input(state)\n",
    "            next_state = self.state_to_dqn_input(next_state)\n",
    "            action = torch.from_numpy(np.array([action])).long().unsqueeze(0).to(device)\n",
    "            reward = torch.from_numpy(np.array([reward])).float().unsqueeze(0).to(device)\n",
    "\n",
    "            # Compute and minimize the loss\n",
    "            if done:\n",
    "                q_target = reward\n",
    "            else:\n",
    "                # Double DQN: Use the local network to select the action and the target network to compute the Q-value\n",
    "                next_action = self.local_dqn(next_state).max(1)[1].unsqueeze(0)  # Use local network to get the action\n",
    "                q_target = reward + self.GAMMA * self.target_dqn(next_state).gather(1, next_action)\n",
    "\n",
    "            # Calculate expected value from the local network\n",
    "            q_local = self.local_dqn(state).gather(1, action)\n",
    "\n",
    "            q_target_list.append(q_target)\n",
    "            q_expected_list.append(q_local)\n",
    "\n",
    "        # Loss calculation (Mean squared error)\n",
    "        loss = F.mse_loss(torch.cat(q_expected_list), torch.cat(q_target_list))\n",
    "        self.optimizer.zero_grad()\n",
    "        loss.backward()\n",
    "        self.optimizer.step()"
   ]
  },
  {
   "cell_type": "code",
   "execution_count": 7,
   "id": "146e188f",
   "metadata": {
    "collapsed": false,
    "execution": {
     "iopub.execute_input": "2024-11-12T19:36:48.380417Z",
     "iopub.status.busy": "2024-11-12T19:36:48.380156Z",
     "iopub.status.idle": "2024-11-12T19:36:48.388412Z",
     "shell.execute_reply": "2024-11-12T19:36:48.387565Z"
    },
    "jupyter": {
     "outputs_hidden": false
    },
    "papermill": {
     "duration": 0.01496,
     "end_time": "2024-11-12T19:36:48.390326",
     "exception": false,
     "start_time": "2024-11-12T19:36:48.375366",
     "status": "completed"
    },
    "tags": []
   },
   "outputs": [],
   "source": [
    "def dqn_train(agent, env, n_episodes=300, max_t=1000, eps_start=1.0, eps_end=0.01, eps_decay=0.995):\n",
    "    scores = []                        # list containing scores from each episode\n",
    "    scores_window = deque(maxlen=100)  # last 100 scores\n",
    "    eps = eps_start                    # initialize epsilon\n",
    "\n",
    "    for i_episode in tqdm(range(1, n_episodes+1)):\n",
    "        # Make sure you correctly get the state from env.reset()\n",
    "        state, _ = env.reset()  # env.reset() now returns a tuple (state, info)\n",
    "        score = 0\n",
    "        for t in range(max_t):\n",
    "            # Select an action\n",
    "            action = agent.act(state, eps)\n",
    "\n",
    "            # Apply the selected action\n",
    "            next_state, reward, done, _, _ = env.step(action)\n",
    "            \n",
    "            # Store the current experience\n",
    "            agent.step(state, action, reward, next_state, done)\n",
    "\n",
    "            state = next_state\n",
    "            score += reward\n",
    "            if done:\n",
    "                break\n",
    "                \n",
    "        scores_window.append(score)       # Save most recent score\n",
    "        scores.append(score)              # Save most recent score\n",
    "        eps = max(eps_end, eps_decay*eps) # Decrease epsilon\n",
    "\n",
    "        if i_episode % 50 == 0:\n",
    "            print('\\rEpisode {}\\tAverage Score: {:.2f}'.format(i_episode, np.mean(scores_window)))\n",
    "\n",
    "    torch.save(agent.local_dqn.state_dict(), 'checkpoint.pth')\n",
    "    return scores\n"
   ]
  },
  {
   "cell_type": "code",
   "execution_count": 8,
   "id": "bfe0c7fc",
   "metadata": {
    "execution": {
     "iopub.execute_input": "2024-11-12T19:36:48.399465Z",
     "iopub.status.busy": "2024-11-12T19:36:48.399201Z",
     "iopub.status.idle": "2024-11-12T19:36:48.413033Z",
     "shell.execute_reply": "2024-11-12T19:36:48.412139Z"
    },
    "id": "dgqM0KQY8474",
    "outputId": "ac40bdb2-e745-4806-b9a3-39ba313aa47e",
    "papermill": {
     "duration": 0.020493,
     "end_time": "2024-11-12T19:36:48.414814",
     "exception": false,
     "start_time": "2024-11-12T19:36:48.394321",
     "status": "completed"
    },
    "tags": []
   },
   "outputs": [
    {
     "name": "stdout",
     "output_type": "stream",
     "text": [
      "(array([ 0.03773366,  0.00220124, -0.00113982,  0.013388  ], dtype=float32), {})\n",
      "State shape:  4\n",
      "Number of actions:  2\n"
     ]
    }
   ],
   "source": [
    "env = gym.make('CartPole-v1')\n",
    "print(env.reset())\n",
    "\n",
    "print('State shape: ', env.observation_space.shape[0])\n",
    "print('Number of actions: ', env.action_space.n)"
   ]
  },
  {
   "cell_type": "code",
   "execution_count": 9,
   "id": "ae2aa5be",
   "metadata": {
    "execution": {
     "iopub.execute_input": "2024-11-12T19:36:48.424270Z",
     "iopub.status.busy": "2024-11-12T19:36:48.423602Z",
     "iopub.status.idle": "2024-11-12T19:48:52.947567Z",
     "shell.execute_reply": "2024-11-12T19:48:52.946535Z"
    },
    "id": "GQ53wv7a-fEU",
    "outputId": "4e1a7bad-50eb-4014-c152-a8a628891239",
    "papermill": {
     "duration": 724.530757,
     "end_time": "2024-11-12T19:48:52.949622",
     "exception": false,
     "start_time": "2024-11-12T19:36:48.418865",
     "status": "completed"
    },
    "tags": []
   },
   "outputs": [
    {
     "name": "stderr",
     "output_type": "stream",
     "text": [
      " 17%|█▋        | 50/300 [00:20<02:26,  1.71it/s]"
     ]
    },
    {
     "name": "stdout",
     "output_type": "stream",
     "text": [
      "Episode 50\tAverage Score: 20.40\n"
     ]
    },
    {
     "name": "stderr",
     "output_type": "stream",
     "text": [
      " 33%|███▎      | 100/300 [00:44<02:23,  1.39it/s]"
     ]
    },
    {
     "name": "stdout",
     "output_type": "stream",
     "text": [
      "Episode 100\tAverage Score: 21.49\n"
     ]
    },
    {
     "name": "stderr",
     "output_type": "stream",
     "text": [
      " 50%|█████     | 150/300 [01:12<02:03,  1.21it/s]"
     ]
    },
    {
     "name": "stdout",
     "output_type": "stream",
     "text": [
      "Episode 150\tAverage Score: 23.97\n"
     ]
    },
    {
     "name": "stderr",
     "output_type": "stream",
     "text": [
      " 67%|██████▋   | 200/300 [02:57<07:18,  4.39s/it]"
     ]
    },
    {
     "name": "stdout",
     "output_type": "stream",
     "text": [
      "Episode 200\tAverage Score: 61.07\n"
     ]
    },
    {
     "name": "stderr",
     "output_type": "stream",
     "text": [
      " 83%|████████▎ | 250/300 [07:23<04:15,  5.11s/it]"
     ]
    },
    {
     "name": "stdout",
     "output_type": "stream",
     "text": [
      "Episode 250\tAverage Score: 169.27\n"
     ]
    },
    {
     "name": "stderr",
     "output_type": "stream",
     "text": [
      "100%|██████████| 300/300 [12:03<00:00,  2.41s/it]"
     ]
    },
    {
     "name": "stdout",
     "output_type": "stream",
     "text": [
      "Episode 300\tAverage Score: 246.64\n"
     ]
    },
    {
     "name": "stderr",
     "output_type": "stream",
     "text": [
      "\n"
     ]
    }
   ],
   "source": [
    "agent = DQAgent(state_shape=env.observation_space.shape[0], action_space_size=env.action_space.n, seed=0)\n",
    "scores = dqn_train(agent,env)"
   ]
  },
  {
   "cell_type": "code",
   "execution_count": 10,
   "id": "58c0afb2",
   "metadata": {
    "execution": {
     "iopub.execute_input": "2024-11-12T19:48:53.005427Z",
     "iopub.status.busy": "2024-11-12T19:48:53.004963Z",
     "iopub.status.idle": "2024-11-12T19:48:53.373733Z",
     "shell.execute_reply": "2024-11-12T19:48:53.372851Z"
    },
    "id": "u3kPJmXM4Ss4",
    "papermill": {
     "duration": 0.39927,
     "end_time": "2024-11-12T19:48:53.375994",
     "exception": false,
     "start_time": "2024-11-12T19:48:52.976724",
     "status": "completed"
    },
    "tags": []
   },
   "outputs": [
    {
     "data": {
      "image/png": "[encoded data removed]",
      "text/plain": [
       "<Figure size 640x480 with 1 Axes>"
      ]
     },
     "metadata": {},
     "output_type": "display_data"
    }
   ],
   "source": [
    "scores = pd.Series(scores, name=\"scores\")\n",
    "scores.describe()\n",
    "\n",
    "fig, ax = plt.subplots(1, 1)\n",
    "_ = scores.plot(ax=ax, label=\"Scores\")\n",
    "_ = (scores.rolling(window=100)\n",
    "           .mean()\n",
    "           .rename(\"Rolling Average\")\n",
    "           .plot(ax=ax))\n",
    "\n",
    "ax.legend()\n",
    "_ = ax.set_xlabel(\"Episode Number\")\n",
    "_ = ax.set_ylabel(\"Score\")\n"
   ]
  },
  {
   "cell_type": "code",
   "execution_count": null,
   "id": "f50b224f",
   "metadata": {
    "papermill": {
     "duration": 0.027801,
     "end_time": "2024-11-12T19:48:53.432803",
     "exception": false,
     "start_time": "2024-11-12T19:48:53.405002",
     "status": "completed"
    },
    "tags": []
   },
   "outputs": [],
   "source": []
  }
 ],
 "metadata": {
  "accelerator": "GPU",
  "colab": {
   "gpuType": "T4",
   "provenance": []
  },
  "kaggle": {
   "accelerator": "nvidiaTeslaT4",
   "dataSources": [],
   "dockerImageVersionId": 30787,
   "isGpuEnabled": true,
   "isInternetEnabled": true,
   "language": "python",
   "sourceType": "notebook"
  },
  "kernelspec": {
   "display_name": "Python 3",
   "language": "python",
   "name": "python3"
  },
  "language_info": {
   "codemirror_mode": {
    "name": "ipython",
    "version": 3
   },
   "file_extension": ".py",
   "mimetype": "text/x-python",
   "name": "python",
   "nbconvert_exporter": "python",
   "pygments_lexer": "ipython3",
   "version": "3.10.14"
  },
  "papermill": {
   "default_parameters": {},
   "duration": 746.374372,
   "end_time": "2024-11-12T19:48:54.781856",
   "environment_variables": {},
   "exception": null,
   "input_path": "__notebook__.ipynb",
   "output_path": "__notebook__.ipynb",
   "parameters": {},
   "start_time": "2024-11-12T19:36:28.407484",
   "version": "2.6.0"
  }
 },
 "nbformat": 4,
 "nbformat_minor": 5
}
